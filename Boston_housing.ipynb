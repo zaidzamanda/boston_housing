{
  "metadata": {
    "kernelspec": {
      "language": "python",
      "display_name": "Python 3",
      "name": "python3"
    },
    "language_info": {
      "pygments_lexer": "ipython3",
      "nbconvert_exporter": "python",
      "version": "3.6.4",
      "file_extension": ".py",
      "codemirror_mode": {
        "name": "ipython",
        "version": 3
      },
      "name": "python",
      "mimetype": "text/x-python"
    },
    "colab": {
      "provenance": []
    }
  },
  "nbformat_minor": 0,
  "nbformat": 4,
  "cells": [
    {
      "cell_type": "markdown",
      "source": [
        "# Hypothesis testing on Boston home data\n",
        "#### Project from the IBM course \"Statistics for Data Science with Python\""
      ],
      "metadata": {
        "papermill": {
          "duration": 0.00783,
          "end_time": "2023-03-18T23:37:39.909808",
          "exception": false,
          "start_time": "2023-03-18T23:37:39.901978",
          "status": "completed"
        },
        "tags": [],
        "id": "pXo2oOqykqz-"
      }
    },
    {
      "cell_type": "markdown",
      "source": [],
      "metadata": {
        "papermill": {
          "duration": 0.00687,
          "end_time": "2023-03-18T23:37:39.923505",
          "exception": false,
          "start_time": "2023-03-18T23:37:39.916635",
          "status": "completed"
        },
        "tags": [],
        "id": "5GsEFen5kq0A"
      }
    },
    {
      "cell_type": "markdown",
      "source": [
        "# ** Project case scenario** <a class=\"anchor\" id=\"1\"></a>\n",
        "\n",
        "You are a Data Scientist with a housing agency in Boston MA, you have been given access to a previous dataset on housing prices derived from the U.S. Census Service to present insights to higher management. Based on your experience in Statistics, what information can you provide them to help with making an informed decision? Upper management will like to get some insight into the following.\n",
        "\n",
        "- 1. Is there a significant difference in the median value of houses bounded by the Charles river or not?\n",
        "\n",
        "- 2. Is there a difference in median values of houses of each proportion of owner-occupied units built before 1940?\n",
        "\n",
        "- 3. Can we conclude that there is no relationship between Nitric oxide concentrations and the proportion of non-retail business acres per town?\n",
        "\n",
        "- 4. What is the impact of an additional weighted distance to the five Boston employment centres on the median value of owner-occupied homes?\n"
      ],
      "metadata": {
        "papermill": {
          "duration": 0.006454,
          "end_time": "2023-03-18T23:37:39.936678",
          "exception": false,
          "start_time": "2023-03-18T23:37:39.930224",
          "status": "completed"
        },
        "tags": [],
        "id": "9f7kETNFkq0B"
      }
    },
    {
      "cell_type": "markdown",
      "source": [
        "# **Dataset details** <a class=\"anchor\" id=\"2\"></a>\n",
        "\n",
        "The following describes the dataset variables:\n",
        "\n",
        "·      **CRIM** - per capita crime rate by town\n",
        "\n",
        "·      **ZN** - proportion of residential land zoned for lots over 25,000 sq.ft.\n",
        "\n",
        "·      **INDUS** - proportion of non-retail business acres per town.\n",
        "\n",
        "·      **CHAS** - Charles River dummy variable (1 if tract bounds river; 0 otherwise)\n",
        "\n",
        "·      **NOX** - nitric oxides concentration (parts per 10 million)\n",
        "\n",
        "·      **RM** - average number of rooms per dwelling\n",
        "\n",
        "·      **AGE** - proportion of owner-occupied units built prior to 1940\n",
        "\n",
        "·      **DIS** - weighted distances to five Boston employment centres\n",
        "\n",
        "·      **RAD** - index of accessibility to radial highways\n",
        "\n",
        "·      **TAX** - full-value property-tax rate per $10,000\n",
        "\n",
        "·      **PTRATIO** - pupil-teacher ratio by town\n",
        "\n",
        "·      **LSTAT** - % lower status of the population\n",
        "\n",
        "·      **MEDV** - Median value of owner-occupied homes in $1000's"
      ],
      "metadata": {
        "papermill": {
          "duration": 0.006284,
          "end_time": "2023-03-18T23:37:39.949634",
          "exception": false,
          "start_time": "2023-03-18T23:37:39.94335",
          "status": "completed"
        },
        "tags": [],
        "id": "PBRH0Qfgkq0B"
      }
    },
    {
      "cell_type": "code",
      "source": [
        "import pandas as pd\n",
        "boston_url = 'https://cf-courses-data.s3.us.cloud-object-storage.appdomain.cloud/IBMDeveloperSkillsNetwork-ST0151EN-SkillsNetwork/labs/boston_housing.csv'\n",
        "boston_df=pd.read_csv(boston_url)\n",
        "boston_df.head()"
      ],
      "metadata": {
        "papermill": {
          "duration": 0.328925,
          "end_time": "2023-03-18T23:37:40.285204",
          "exception": false,
          "start_time": "2023-03-18T23:37:39.956279",
          "status": "completed"
        },
        "tags": [],
        "execution": {
          "iopub.status.busy": "2023-03-18T23:49:53.242256Z",
          "iopub.execute_input": "2023-03-18T23:49:53.242645Z",
          "iopub.status.idle": "2023-03-18T23:49:54.523388Z",
          "shell.execute_reply.started": "2023-03-18T23:49:53.24261Z",
          "shell.execute_reply": "2023-03-18T23:49:54.522507Z"
        },
        "trusted": true,
        "colab": {
          "base_uri": "https://localhost:8080/",
          "height": 206
        },
        "id": "dU3ezHh6kq0C",
        "outputId": "9a3909ad-5469-4a54-afc1-35c7c33f9103"
      },
      "execution_count": 5,
      "outputs": [
        {
          "output_type": "execute_result",
          "data": {
            "text/plain": [
              "   Unnamed: 0     CRIM    ZN  INDUS  CHAS    NOX     RM   AGE     DIS  RAD  \\\n",
              "0           0  0.00632  18.0   2.31   0.0  0.538  6.575  65.2  4.0900  1.0   \n",
              "1           1  0.02731   0.0   7.07   0.0  0.469  6.421  78.9  4.9671  2.0   \n",
              "2           2  0.02729   0.0   7.07   0.0  0.469  7.185  61.1  4.9671  2.0   \n",
              "3           3  0.03237   0.0   2.18   0.0  0.458  6.998  45.8  6.0622  3.0   \n",
              "4           4  0.06905   0.0   2.18   0.0  0.458  7.147  54.2  6.0622  3.0   \n",
              "\n",
              "     TAX  PTRATIO  LSTAT  MEDV  \n",
              "0  296.0     15.3   4.98  24.0  \n",
              "1  242.0     17.8   9.14  21.6  \n",
              "2  242.0     17.8   4.03  34.7  \n",
              "3  222.0     18.7   2.94  33.4  \n",
              "4  222.0     18.7   5.33  36.2  "
            ],
            "text/html": [
              "\n",
              "  <div id=\"df-d3968b39-aa93-4ad8-a216-dbf2f478e732\">\n",
              "    <div class=\"colab-df-container\">\n",
              "      <div>\n",
              "<style scoped>\n",
              "    .dataframe tbody tr th:only-of-type {\n",
              "        vertical-align: middle;\n",
              "    }\n",
              "\n",
              "    .dataframe tbody tr th {\n",
              "        vertical-align: top;\n",
              "    }\n",
              "\n",
              "    .dataframe thead th {\n",
              "        text-align: right;\n",
              "    }\n",
              "</style>\n",
              "<table border=\"1\" class=\"dataframe\">\n",
              "  <thead>\n",
              "    <tr style=\"text-align: right;\">\n",
              "      <th></th>\n",
              "      <th>Unnamed: 0</th>\n",
              "      <th>CRIM</th>\n",
              "      <th>ZN</th>\n",
              "      <th>INDUS</th>\n",
              "      <th>CHAS</th>\n",
              "      <th>NOX</th>\n",
              "      <th>RM</th>\n",
              "      <th>AGE</th>\n",
              "      <th>DIS</th>\n",
              "      <th>RAD</th>\n",
              "      <th>TAX</th>\n",
              "      <th>PTRATIO</th>\n",
              "      <th>LSTAT</th>\n",
              "      <th>MEDV</th>\n",
              "    </tr>\n",
              "  </thead>\n",
              "  <tbody>\n",
              "    <tr>\n",
              "      <th>0</th>\n",
              "      <td>0</td>\n",
              "      <td>0.00632</td>\n",
              "      <td>18.0</td>\n",
              "      <td>2.31</td>\n",
              "      <td>0.0</td>\n",
              "      <td>0.538</td>\n",
              "      <td>6.575</td>\n",
              "      <td>65.2</td>\n",
              "      <td>4.0900</td>\n",
              "      <td>1.0</td>\n",
              "      <td>296.0</td>\n",
              "      <td>15.3</td>\n",
              "      <td>4.98</td>\n",
              "      <td>24.0</td>\n",
              "    </tr>\n",
              "    <tr>\n",
              "      <th>1</th>\n",
              "      <td>1</td>\n",
              "      <td>0.02731</td>\n",
              "      <td>0.0</td>\n",
              "      <td>7.07</td>\n",
              "      <td>0.0</td>\n",
              "      <td>0.469</td>\n",
              "      <td>6.421</td>\n",
              "      <td>78.9</td>\n",
              "      <td>4.9671</td>\n",
              "      <td>2.0</td>\n",
              "      <td>242.0</td>\n",
              "      <td>17.8</td>\n",
              "      <td>9.14</td>\n",
              "      <td>21.6</td>\n",
              "    </tr>\n",
              "    <tr>\n",
              "      <th>2</th>\n",
              "      <td>2</td>\n",
              "      <td>0.02729</td>\n",
              "      <td>0.0</td>\n",
              "      <td>7.07</td>\n",
              "      <td>0.0</td>\n",
              "      <td>0.469</td>\n",
              "      <td>7.185</td>\n",
              "      <td>61.1</td>\n",
              "      <td>4.9671</td>\n",
              "      <td>2.0</td>\n",
              "      <td>242.0</td>\n",
              "      <td>17.8</td>\n",
              "      <td>4.03</td>\n",
              "      <td>34.7</td>\n",
              "    </tr>\n",
              "    <tr>\n",
              "      <th>3</th>\n",
              "      <td>3</td>\n",
              "      <td>0.03237</td>\n",
              "      <td>0.0</td>\n",
              "      <td>2.18</td>\n",
              "      <td>0.0</td>\n",
              "      <td>0.458</td>\n",
              "      <td>6.998</td>\n",
              "      <td>45.8</td>\n",
              "      <td>6.0622</td>\n",
              "      <td>3.0</td>\n",
              "      <td>222.0</td>\n",
              "      <td>18.7</td>\n",
              "      <td>2.94</td>\n",
              "      <td>33.4</td>\n",
              "    </tr>\n",
              "    <tr>\n",
              "      <th>4</th>\n",
              "      <td>4</td>\n",
              "      <td>0.06905</td>\n",
              "      <td>0.0</td>\n",
              "      <td>2.18</td>\n",
              "      <td>0.0</td>\n",
              "      <td>0.458</td>\n",
              "      <td>7.147</td>\n",
              "      <td>54.2</td>\n",
              "      <td>6.0622</td>\n",
              "      <td>3.0</td>\n",
              "      <td>222.0</td>\n",
              "      <td>18.7</td>\n",
              "      <td>5.33</td>\n",
              "      <td>36.2</td>\n",
              "    </tr>\n",
              "  </tbody>\n",
              "</table>\n",
              "</div>\n",
              "      <button class=\"colab-df-convert\" onclick=\"convertToInteractive('df-d3968b39-aa93-4ad8-a216-dbf2f478e732')\"\n",
              "              title=\"Convert this dataframe to an interactive table.\"\n",
              "              style=\"display:none;\">\n",
              "        \n",
              "  <svg xmlns=\"http://www.w3.org/2000/svg\" height=\"24px\"viewBox=\"0 0 24 24\"\n",
              "       width=\"24px\">\n",
              "    <path d=\"M0 0h24v24H0V0z\" fill=\"none\"/>\n",
              "    <path d=\"M18.56 5.44l.94 2.06.94-2.06 2.06-.94-2.06-.94-.94-2.06-.94 2.06-2.06.94zm-11 1L8.5 8.5l.94-2.06 2.06-.94-2.06-.94L8.5 2.5l-.94 2.06-2.06.94zm10 10l.94 2.06.94-2.06 2.06-.94-2.06-.94-.94-2.06-.94 2.06-2.06.94z\"/><path d=\"M17.41 7.96l-1.37-1.37c-.4-.4-.92-.59-1.43-.59-.52 0-1.04.2-1.43.59L10.3 9.45l-7.72 7.72c-.78.78-.78 2.05 0 2.83L4 21.41c.39.39.9.59 1.41.59.51 0 1.02-.2 1.41-.59l7.78-7.78 2.81-2.81c.8-.78.8-2.07 0-2.86zM5.41 20L4 18.59l7.72-7.72 1.47 1.35L5.41 20z\"/>\n",
              "  </svg>\n",
              "      </button>\n",
              "      \n",
              "  <style>\n",
              "    .colab-df-container {\n",
              "      display:flex;\n",
              "      flex-wrap:wrap;\n",
              "      gap: 12px;\n",
              "    }\n",
              "\n",
              "    .colab-df-convert {\n",
              "      background-color: #E8F0FE;\n",
              "      border: none;\n",
              "      border-radius: 50%;\n",
              "      cursor: pointer;\n",
              "      display: none;\n",
              "      fill: #1967D2;\n",
              "      height: 32px;\n",
              "      padding: 0 0 0 0;\n",
              "      width: 32px;\n",
              "    }\n",
              "\n",
              "    .colab-df-convert:hover {\n",
              "      background-color: #E2EBFA;\n",
              "      box-shadow: 0px 1px 2px rgba(60, 64, 67, 0.3), 0px 1px 3px 1px rgba(60, 64, 67, 0.15);\n",
              "      fill: #174EA6;\n",
              "    }\n",
              "\n",
              "    [theme=dark] .colab-df-convert {\n",
              "      background-color: #3B4455;\n",
              "      fill: #D2E3FC;\n",
              "    }\n",
              "\n",
              "    [theme=dark] .colab-df-convert:hover {\n",
              "      background-color: #434B5C;\n",
              "      box-shadow: 0px 1px 3px 1px rgba(0, 0, 0, 0.15);\n",
              "      filter: drop-shadow(0px 1px 2px rgba(0, 0, 0, 0.3));\n",
              "      fill: #FFFFFF;\n",
              "    }\n",
              "  </style>\n",
              "\n",
              "      <script>\n",
              "        const buttonEl =\n",
              "          document.querySelector('#df-d3968b39-aa93-4ad8-a216-dbf2f478e732 button.colab-df-convert');\n",
              "        buttonEl.style.display =\n",
              "          google.colab.kernel.accessAllowed ? 'block' : 'none';\n",
              "\n",
              "        async function convertToInteractive(key) {\n",
              "          const element = document.querySelector('#df-d3968b39-aa93-4ad8-a216-dbf2f478e732');\n",
              "          const dataTable =\n",
              "            await google.colab.kernel.invokeFunction('convertToInteractive',\n",
              "                                                     [key], {});\n",
              "          if (!dataTable) return;\n",
              "\n",
              "          const docLinkHtml = 'Like what you see? Visit the ' +\n",
              "            '<a target=\"_blank\" href=https://colab.research.google.com/notebooks/data_table.ipynb>data table notebook</a>'\n",
              "            + ' to learn more about interactive tables.';\n",
              "          element.innerHTML = '';\n",
              "          dataTable['output_type'] = 'display_data';\n",
              "          await google.colab.output.renderOutput(dataTable, element);\n",
              "          const docLink = document.createElement('div');\n",
              "          docLink.innerHTML = docLinkHtml;\n",
              "          element.appendChild(docLink);\n",
              "        }\n",
              "      </script>\n",
              "    </div>\n",
              "  </div>\n",
              "  "
            ]
          },
          "metadata": {},
          "execution_count": 5
        }
      ]
    },
    {
      "cell_type": "markdown",
      "source": [
        "# **1. Hypothesis testing and vizualisations** <a class=\"anchor\" id=\"3\"></a>\n",
        "\n",
        "\n",
        "In this case, we have set the significance level (**alpha value**) to **0.05**."
      ],
      "metadata": {
        "papermill": {
          "duration": 0.006704,
          "end_time": "2023-03-18T23:37:40.298829",
          "exception": false,
          "start_time": "2023-03-18T23:37:40.292125",
          "status": "completed"
        },
        "tags": [],
        "id": "UmdYp02Hkq0D"
      }
    },
    {
      "cell_type": "markdown",
      "source": [
        "## **1.1.**  Is there a significant difference in the median value of houses bounded by the Charles river or not? <a class=\"anchor\" id=\"3.1\"></a>"
      ],
      "metadata": {
        "papermill": {
          "duration": 0.006642,
          "end_time": "2023-03-18T23:37:40.312584",
          "exception": false,
          "start_time": "2023-03-18T23:37:40.305942",
          "status": "completed"
        },
        "tags": [],
        "id": "7w3Yt_ajkq0E"
      }
    },
    {
      "cell_type": "markdown",
      "source": [
        "**Bar Plot**"
      ],
      "metadata": {
        "papermill": {
          "duration": 0.00681,
          "end_time": "2023-03-18T23:37:40.326694",
          "exception": false,
          "start_time": "2023-03-18T23:37:40.319884",
          "status": "completed"
        },
        "tags": [],
        "id": "X1O249rykq0E"
      }
    },
    {
      "cell_type": "code",
      "source": [
        "import seaborn as sns\n",
        "import matplotlib.pyplot as plt\n",
        "sns.set(style=\"whitegrid\")\n",
        "plt.figure(figsize=(10,4))\n",
        "plt.title(\"The median value of houses bounded by the Charles river[1] or not[0]\")\n",
        "sns.barplot(x='CHAS',y='MEDV',data=boston_df)"
      ],
      "metadata": {
        "execution": {
          "iopub.execute_input": "2023-03-18T23:37:40.343166Z",
          "iopub.status.busy": "2023-03-18T23:37:40.342305Z",
          "iopub.status.idle": "2023-03-18T23:37:42.130921Z",
          "shell.execute_reply": "2023-03-18T23:37:42.129601Z"
        },
        "papermill": {
          "duration": 1.800004,
          "end_time": "2023-03-18T23:37:42.133578",
          "exception": false,
          "start_time": "2023-03-18T23:37:40.333574",
          "status": "completed"
        },
        "tags": [],
        "colab": {
          "base_uri": "https://localhost:8080/",
          "height": 437
        },
        "id": "tmQCko33kq0E",
        "outputId": "ef34ab5b-85b4-4891-e10e-d27af25638e3"
      },
      "execution_count": 6,
      "outputs": [
        {
          "output_type": "execute_result",
          "data": {
            "text/plain": [
              "<Axes: title={'center': 'The median value of houses bounded by the Charles river[1] or not[0]'}, xlabel='CHAS', ylabel='MEDV'>"
            ]
          },
          "metadata": {},
          "execution_count": 6
        },
        {
          "output_type": "display_data",
          "data": {
            "text/plain": [
              "<Figure size 1000x400 with 1 Axes>"
            ],
            "image/png": "[encoded data removed]"
          },
          "metadata": {}
        }
      ]
    },
    {
      "cell_type": "markdown",
      "source": [
        "**Observation:** While it is visually noticeable that the median value (MEDV) of houses bounded by the Charles River is higher than that of those not bounded, we need to determine if this difference is statistically significant.Therefore, the question remains: Is this difference statistically significant?\n",
        "\n",
        "Since we're comparing two samples for the same variable, we need to combine both **Lavene** and **T-test** to answer this question."
      ],
      "metadata": {
        "papermill": {
          "duration": 0.007316,
          "end_time": "2023-03-18T23:37:42.14847",
          "exception": false,
          "start_time": "2023-03-18T23:37:42.141154",
          "status": "completed"
        },
        "tags": [],
        "id": "iKCl190ckq0E"
      }
    },
    {
      "cell_type": "markdown",
      "source": [
        "### Applying T-test\n",
        "- H0: There is no difference in the median value of houses bounded by the Charles river\n",
        "- H1: There is a difference in the median value of houses bounded by the Charles river"
      ],
      "metadata": {
        "papermill": {
          "duration": 0.007142,
          "end_time": "2023-03-18T23:37:42.164028",
          "exception": false,
          "start_time": "2023-03-18T23:37:42.156886",
          "status": "completed"
        },
        "tags": [],
        "id": "aga_9b9Skq0F"
      }
    },
    {
      "cell_type": "code",
      "source": [
        "import scipy\n",
        "scipy.stats.levene(boston_df[boston_df['CHAS'] == 0]['MEDV'],\n",
        "                   boston_df[boston_df['CHAS'] == 1]['MEDV'], center='mean')"
      ],
      "metadata": {
        "execution": {
          "iopub.execute_input": "2023-03-18T23:37:42.181582Z",
          "iopub.status.busy": "2023-03-18T23:37:42.180758Z",
          "iopub.status.idle": "2023-03-18T23:37:42.19444Z",
          "shell.execute_reply": "2023-03-18T23:37:42.19323Z"
        },
        "papermill": {
          "duration": 0.025506,
          "end_time": "2023-03-18T23:37:42.196997",
          "exception": false,
          "start_time": "2023-03-18T23:37:42.171491",
          "status": "completed"
        },
        "tags": [],
        "colab": {
          "base_uri": "https://localhost:8080/"
        },
        "id": "Nl8jE15_kq0F",
        "outputId": "28fc13e1-ce26-481c-bce1-f062e3527ec1"
      },
      "execution_count": 7,
      "outputs": [
        {
          "output_type": "execute_result",
          "data": {
            "text/plain": [
              "LeveneResult(statistic=8.75190489604598, pvalue=0.003238119367639829)"
            ]
          },
          "metadata": {},
          "execution_count": 7
        }
      ]
    },
    {
      "cell_type": "markdown",
      "source": [
        "Since the obtained P-value is less than 0.05, we **reject** the null hypothesis (H0*), and we conclude that there is a statistical difference in the variance between the two samples."
      ],
      "metadata": {
        "papermill": {
          "duration": 0.007289,
          "end_time": "2023-03-18T23:37:42.212049",
          "exception": false,
          "start_time": "2023-03-18T23:37:42.20476",
          "status": "completed"
        },
        "tags": [],
        "id": "Fx23TirCkq0F"
      }
    },
    {
      "cell_type": "code",
      "source": [
        "# Applying the T-test on the two initial hypothtesis\n",
        "# Setting the equal_var parameter to True since we proved the variance inequality\n",
        "scipy.stats.ttest_ind(boston_df[boston_df['CHAS'] == 0]['MEDV'],\n",
        "                   boston_df[boston_df['CHAS'] == 1]['MEDV'], equal_var = True)\n",
        "#obtained p-value= 7.390623170519905 * 10^^-5"
      ],
      "metadata": {
        "execution": {
          "iopub.execute_input": "2023-03-18T23:37:42.229658Z",
          "iopub.status.busy": "2023-03-18T23:37:42.228899Z",
          "iopub.status.idle": "2023-03-18T23:37:42.240047Z",
          "shell.execute_reply": "2023-03-18T23:37:42.238799Z"
        },
        "papermill": {
          "duration": 0.023569,
          "end_time": "2023-03-18T23:37:42.243214",
          "exception": false,
          "start_time": "2023-03-18T23:37:42.219645",
          "status": "completed"
        },
        "tags": [],
        "colab": {
          "base_uri": "https://localhost:8080/"
        },
        "id": "Jw6BJm0Tkq0F",
        "outputId": "ec53fa71-13cd-47d5-979e-0c2aa3779d27"
      },
      "execution_count": 8,
      "outputs": [
        {
          "output_type": "execute_result",
          "data": {
            "text/plain": [
              "Ttest_indResult(statistic=-3.996437466090509, pvalue=7.390623170519905e-05)"
            ]
          },
          "metadata": {},
          "execution_count": 8
        }
      ]
    },
    {
      "cell_type": "markdown",
      "source": [
        "**Conclusion** : Since the p-value is less than alpha value 0.05, we **reject** the null hypothesis (H0) as there is enough proof that there is a statistical difference in the median value of houses bounded by the Charles river or not."
      ],
      "metadata": {
        "papermill": {
          "duration": 0.007426,
          "end_time": "2023-03-18T23:37:42.258703",
          "exception": false,
          "start_time": "2023-03-18T23:37:42.251277",
          "status": "completed"
        },
        "tags": [],
        "id": "m4_4_z7Dkq0F"
      }
    },
    {
      "cell_type": "markdown",
      "source": [
        "## **1.2.**     Is there a difference in median values of houses of each proportion of owner-occupied units built before 1940?<a class=\"anchor\" id=\"3.2\"></a>\n",
        "\n",
        "Boxplot\n"
      ],
      "metadata": {
        "papermill": {
          "duration": 0.007911,
          "end_time": "2023-03-18T23:37:42.274567",
          "exception": false,
          "start_time": "2023-03-18T23:37:42.266656",
          "status": "completed"
        },
        "tags": [],
        "id": "Rte0eHKTkq0F"
      }
    },
    {
      "cell_type": "code",
      "source": [
        "boston_df.loc[(boston_df['AGE']<=35),'age']='35 and younger'\n",
        "boston_df.loc[(boston_df['AGE']>35)&(boston_df['AGE']<70),'age']='between 35 and 70'\n",
        "boston_df.loc[boston_df['AGE']>=70,'age']='70 and older'\n",
        "boston_df.head()"
      ],
      "metadata": {
        "execution": {
          "iopub.execute_input": "2023-03-18T23:37:42.292646Z",
          "iopub.status.busy": "2023-03-18T23:37:42.291808Z",
          "iopub.status.idle": "2023-03-18T23:37:42.31951Z",
          "shell.execute_reply": "2023-03-18T23:37:42.318492Z"
        },
        "papermill": {
          "duration": 0.039418,
          "end_time": "2023-03-18T23:37:42.321916",
          "exception": false,
          "start_time": "2023-03-18T23:37:42.282498",
          "status": "completed"
        },
        "tags": [],
        "colab": {
          "base_uri": "https://localhost:8080/",
          "height": 206
        },
        "id": "y5FRIUeYkq0F",
        "outputId": "de608463-9f0d-4078-972e-7597ffdce079"
      },
      "execution_count": 9,
      "outputs": [
        {
          "output_type": "execute_result",
          "data": {
            "text/plain": [
              "   Unnamed: 0     CRIM    ZN  INDUS  CHAS    NOX     RM   AGE     DIS  RAD  \\\n",
              "0           0  0.00632  18.0   2.31   0.0  0.538  6.575  65.2  4.0900  1.0   \n",
              "1           1  0.02731   0.0   7.07   0.0  0.469  6.421  78.9  4.9671  2.0   \n",
              "2           2  0.02729   0.0   7.07   0.0  0.469  7.185  61.1  4.9671  2.0   \n",
              "3           3  0.03237   0.0   2.18   0.0  0.458  6.998  45.8  6.0622  3.0   \n",
              "4           4  0.06905   0.0   2.18   0.0  0.458  7.147  54.2  6.0622  3.0   \n",
              "\n",
              "     TAX  PTRATIO  LSTAT  MEDV                age  \n",
              "0  296.0     15.3   4.98  24.0  between 35 and 70  \n",
              "1  242.0     17.8   9.14  21.6       70 and older  \n",
              "2  242.0     17.8   4.03  34.7  between 35 and 70  \n",
              "3  222.0     18.7   2.94  33.4  between 35 and 70  \n",
              "4  222.0     18.7   5.33  36.2  between 35 and 70  "
            ],
            "text/html": [
              "\n",
              "  <div id=\"df-272c4020-4597-4497-a115-cc4a509c457e\">\n",
              "    <div class=\"colab-df-container\">\n",
              "      <div>\n",
              "<style scoped>\n",
              "    .dataframe tbody tr th:only-of-type {\n",
              "        vertical-align: middle;\n",
              "    }\n",
              "\n",
              "    .dataframe tbody tr th {\n",
              "        vertical-align: top;\n",
              "    }\n",
              "\n",
              "    .dataframe thead th {\n",
              "        text-align: right;\n",
              "    }\n",
              "</style>\n",
              "<table border=\"1\" class=\"dataframe\">\n",
              "  <thead>\n",
              "    <tr style=\"text-align: right;\">\n",
              "      <th></th>\n",
              "      <th>Unnamed: 0</th>\n",
              "      <th>CRIM</th>\n",
              "      <th>ZN</th>\n",
              "      <th>INDUS</th>\n",
              "      <th>CHAS</th>\n",
              "      <th>NOX</th>\n",
              "      <th>RM</th>\n",
              "      <th>AGE</th>\n",
              "      <th>DIS</th>\n",
              "      <th>RAD</th>\n",
              "      <th>TAX</th>\n",
              "      <th>PTRATIO</th>\n",
              "      <th>LSTAT</th>\n",
              "      <th>MEDV</th>\n",
              "      <th>age</th>\n",
              "    </tr>\n",
              "  </thead>\n",
              "  <tbody>\n",
              "    <tr>\n",
              "      <th>0</th>\n",
              "      <td>0</td>\n",
              "      <td>0.00632</td>\n",
              "      <td>18.0</td>\n",
              "      <td>2.31</td>\n",
              "      <td>0.0</td>\n",
              "      <td>0.538</td>\n",
              "      <td>6.575</td>\n",
              "      <td>65.2</td>\n",
              "      <td>4.0900</td>\n",
              "      <td>1.0</td>\n",
              "      <td>296.0</td>\n",
              "      <td>15.3</td>\n",
              "      <td>4.98</td>\n",
              "      <td>24.0</td>\n",
              "      <td>between 35 and 70</td>\n",
              "    </tr>\n",
              "    <tr>\n",
              "      <th>1</th>\n",
              "      <td>1</td>\n",
              "      <td>0.02731</td>\n",
              "      <td>0.0</td>\n",
              "      <td>7.07</td>\n",
              "      <td>0.0</td>\n",
              "      <td>0.469</td>\n",
              "      <td>6.421</td>\n",
              "      <td>78.9</td>\n",
              "      <td>4.9671</td>\n",
              "      <td>2.0</td>\n",
              "      <td>242.0</td>\n",
              "      <td>17.8</td>\n",
              "      <td>9.14</td>\n",
              "      <td>21.6</td>\n",
              "      <td>70 and older</td>\n",
              "    </tr>\n",
              "    <tr>\n",
              "      <th>2</th>\n",
              "      <td>2</td>\n",
              "      <td>0.02729</td>\n",
              "      <td>0.0</td>\n",
              "      <td>7.07</td>\n",
              "      <td>0.0</td>\n",
              "      <td>0.469</td>\n",
              "      <td>7.185</td>\n",
              "      <td>61.1</td>\n",
              "      <td>4.9671</td>\n",
              "      <td>2.0</td>\n",
              "      <td>242.0</td>\n",
              "      <td>17.8</td>\n",
              "      <td>4.03</td>\n",
              "      <td>34.7</td>\n",
              "      <td>between 35 and 70</td>\n",
              "    </tr>\n",
              "    <tr>\n",
              "      <th>3</th>\n",
              "      <td>3</td>\n",
              "      <td>0.03237</td>\n",
              "      <td>0.0</td>\n",
              "      <td>2.18</td>\n",
              "      <td>0.0</td>\n",
              "      <td>0.458</td>\n",
              "      <td>6.998</td>\n",
              "      <td>45.8</td>\n",
              "      <td>6.0622</td>\n",
              "      <td>3.0</td>\n",
              "      <td>222.0</td>\n",
              "      <td>18.7</td>\n",
              "      <td>2.94</td>\n",
              "      <td>33.4</td>\n",
              "      <td>between 35 and 70</td>\n",
              "    </tr>\n",
              "    <tr>\n",
              "      <th>4</th>\n",
              "      <td>4</td>\n",
              "      <td>0.06905</td>\n",
              "      <td>0.0</td>\n",
              "      <td>2.18</td>\n",
              "      <td>0.0</td>\n",
              "      <td>0.458</td>\n",
              "      <td>7.147</td>\n",
              "      <td>54.2</td>\n",
              "      <td>6.0622</td>\n",
              "      <td>3.0</td>\n",
              "      <td>222.0</td>\n",
              "      <td>18.7</td>\n",
              "      <td>5.33</td>\n",
              "      <td>36.2</td>\n",
              "      <td>between 35 and 70</td>\n",
              "    </tr>\n",
              "  </tbody>\n",
              "</table>\n",
              "</div>\n",
              "      <button class=\"colab-df-convert\" onclick=\"convertToInteractive('df-272c4020-4597-4497-a115-cc4a509c457e')\"\n",
              "              title=\"Convert this dataframe to an interactive table.\"\n",
              "              style=\"display:none;\">\n",
              "        \n",
              "  <svg xmlns=\"http://www.w3.org/2000/svg\" height=\"24px\"viewBox=\"0 0 24 24\"\n",
              "       width=\"24px\">\n",
              "    <path d=\"M0 0h24v24H0V0z\" fill=\"none\"/>\n",
              "    <path d=\"M18.56 5.44l.94 2.06.94-2.06 2.06-.94-2.06-.94-.94-2.06-.94 2.06-2.06.94zm-11 1L8.5 8.5l.94-2.06 2.06-.94-2.06-.94L8.5 2.5l-.94 2.06-2.06.94zm10 10l.94 2.06.94-2.06 2.06-.94-2.06-.94-.94-2.06-.94 2.06-2.06.94z\"/><path d=\"M17.41 7.96l-1.37-1.37c-.4-.4-.92-.59-1.43-.59-.52 0-1.04.2-1.43.59L10.3 9.45l-7.72 7.72c-.78.78-.78 2.05 0 2.83L4 21.41c.39.39.9.59 1.41.59.51 0 1.02-.2 1.41-.59l7.78-7.78 2.81-2.81c.8-.78.8-2.07 0-2.86zM5.41 20L4 18.59l7.72-7.72 1.47 1.35L5.41 20z\"/>\n",
              "  </svg>\n",
              "      </button>\n",
              "      \n",
              "  <style>\n",
              "    .colab-df-container {\n",
              "      display:flex;\n",
              "      flex-wrap:wrap;\n",
              "      gap: 12px;\n",
              "    }\n",
              "\n",
              "    .colab-df-convert {\n",
              "      background-color: #E8F0FE;\n",
              "      border: none;\n",
              "      border-radius: 50%;\n",
              "      cursor: pointer;\n",
              "      display: none;\n",
              "      fill: #1967D2;\n",
              "      height: 32px;\n",
              "      padding: 0 0 0 0;\n",
              "      width: 32px;\n",
              "    }\n",
              "\n",
              "    .colab-df-convert:hover {\n",
              "      background-color: #E2EBFA;\n",
              "      box-shadow: 0px 1px 2px rgba(60, 64, 67, 0.3), 0px 1px 3px 1px rgba(60, 64, 67, 0.15);\n",
              "      fill: #174EA6;\n",
              "    }\n",
              "\n",
              "    [theme=dark] .colab-df-convert {\n",
              "      background-color: #3B4455;\n",
              "      fill: #D2E3FC;\n",
              "    }\n",
              "\n",
              "    [theme=dark] .colab-df-convert:hover {\n",
              "      background-color: #434B5C;\n",
              "      box-shadow: 0px 1px 3px 1px rgba(0, 0, 0, 0.15);\n",
              "      filter: drop-shadow(0px 1px 2px rgba(0, 0, 0, 0.3));\n",
              "      fill: #FFFFFF;\n",
              "    }\n",
              "  </style>\n",
              "\n",
              "      <script>\n",
              "        const buttonEl =\n",
              "          document.querySelector('#df-272c4020-4597-4497-a115-cc4a509c457e button.colab-df-convert');\n",
              "        buttonEl.style.display =\n",
              "          google.colab.kernel.accessAllowed ? 'block' : 'none';\n",
              "\n",
              "        async function convertToInteractive(key) {\n",
              "          const element = document.querySelector('#df-272c4020-4597-4497-a115-cc4a509c457e');\n",
              "          const dataTable =\n",
              "            await google.colab.kernel.invokeFunction('convertToInteractive',\n",
              "                                                     [key], {});\n",
              "          if (!dataTable) return;\n",
              "\n",
              "          const docLinkHtml = 'Like what you see? Visit the ' +\n",
              "            '<a target=\"_blank\" href=https://colab.research.google.com/notebooks/data_table.ipynb>data table notebook</a>'\n",
              "            + ' to learn more about interactive tables.';\n",
              "          element.innerHTML = '';\n",
              "          dataTable['output_type'] = 'display_data';\n",
              "          await google.colab.output.renderOutput(dataTable, element);\n",
              "          const docLink = document.createElement('div');\n",
              "          docLink.innerHTML = docLinkHtml;\n",
              "          element.appendChild(docLink);\n",
              "        }\n",
              "      </script>\n",
              "    </div>\n",
              "  </div>\n",
              "  "
            ]
          },
          "metadata": {},
          "execution_count": 9
        }
      ]
    },
    {
      "cell_type": "code",
      "source": [
        "#boxplot\n",
        "plt.figure(figsize=(16,6))\n",
        "ax = sns.boxplot(x='MEDV', y='age', data=boston_df)\n",
        "plt.title(\"Median Value of Owner-Occupied Homes by AGE Group\")\n",
        "plt.show()"
      ],
      "metadata": {
        "execution": {
          "iopub.execute_input": "2023-03-18T23:37:42.340404Z",
          "iopub.status.busy": "2023-03-18T23:37:42.339913Z",
          "iopub.status.idle": "2023-03-18T23:37:42.661478Z",
          "shell.execute_reply": "2023-03-18T23:37:42.660092Z"
        },
        "papermill": {
          "duration": 0.334822,
          "end_time": "2023-03-18T23:37:42.664971",
          "exception": false,
          "start_time": "2023-03-18T23:37:42.330149",
          "status": "completed"
        },
        "tags": [],
        "colab": {
          "base_uri": "https://localhost:8080/",
          "height": 524
        },
        "id": "xqxdGKVGkq0F",
        "outputId": "5f8a5890-5d75-4688-9928-4092c6b1df4f"
      },
      "execution_count": 10,
      "outputs": [
        {
          "output_type": "display_data",
          "data": {
            "text/plain": [
              "<Figure size 1600x600 with 1 Axes>"
            ],
            "image/png": "[encoded data removed]"
          },
          "metadata": {}
        }
      ]
    },
    {
      "cell_type": "markdown",
      "source": [
        "**Observation:** We can observe that the MEDV values of the three samples are significantly different from each other. However, to rule out the possibility that these differences are due to chance, we will perform an **ANOVA** test. This statistical test is designed to compare the means of multiple samples (more than two) for a single variable, allowing us to determine whether the observed differences are statistically significant."
      ],
      "metadata": {
        "papermill": {
          "duration": 0.008332,
          "end_time": "2023-03-18T23:37:42.682446",
          "exception": false,
          "start_time": "2023-03-18T23:37:42.674114",
          "status": "completed"
        },
        "tags": [],
        "id": "wyAdG9pRkq0G"
      }
    },
    {
      "cell_type": "markdown",
      "source": [
        "**Applying the ANOVA test :**\n",
        "\n",
        "H0: there is no difference in median values of houses of each proportion of owner-occupied units built before 1940\n",
        "\n",
        "H1: there is a significant difference in median values of houses of each proportion of owner-occupied units built before 1940\n",
        "\n"
      ],
      "metadata": {
        "papermill": {
          "duration": 0.008312,
          "end_time": "2023-03-18T23:37:42.699705",
          "exception": false,
          "start_time": "2023-03-18T23:37:42.691393",
          "status": "completed"
        },
        "tags": [],
        "id": "qzJVHkn5kq0G"
      }
    },
    {
      "cell_type": "code",
      "source": [
        "a35_younger=boston_df[boston_df['age']=='35 and younger']['MEDV']\n",
        "between_35_70=boston_df[boston_df['age']=='between 35 and 70']['MEDV']\n",
        "a70_older=boston_df[boston_df['age']=='70 and older']['MEDV']\n",
        "f_statistic, p_value = scipy.stats.f_oneway(a35_younger, between_35_70, a70_older)\n",
        "print('The f_statistic value obtained from the ANOVA test :'+str(f_statistic)+', and the P-value obtained is :'+str(p_value) )\n"
      ],
      "metadata": {
        "execution": {
          "iopub.execute_input": "2023-03-18T23:37:42.721377Z",
          "iopub.status.busy": "2023-03-18T23:37:42.72044Z",
          "iopub.status.idle": "2023-03-18T23:37:42.731967Z",
          "shell.execute_reply": "2023-03-18T23:37:42.730975Z"
        },
        "papermill": {
          "duration": 0.02581,
          "end_time": "2023-03-18T23:37:42.734584",
          "exception": false,
          "start_time": "2023-03-18T23:37:42.708774",
          "status": "completed"
        },
        "tags": [],
        "colab": {
          "base_uri": "https://localhost:8080/"
        },
        "id": "BVPlRVz7kq0G",
        "outputId": "7229bf16-7f27-4699-8155-e6de634eb0f3"
      },
      "execution_count": 11,
      "outputs": [
        {
          "output_type": "stream",
          "name": "stdout",
          "text": [
            "The f_statistic value obtained from the ANOVA test :36.40764999196599, and the P-value obtained is :1.7105011022702984e-15\n"
          ]
        }
      ]
    },
    {
      "cell_type": "markdown",
      "source": [
        "**CONCLUSION:** If we obtain a p-value less than 0.05 in the ANOVA test, it would indicate that at least one of the samples has a significantly different mean value for the MEDV variable, as compared to the others. This result would lead us to reject the null hypothesis and accept the alternative hypothesis, which suggests that there are differences in the mean values of the MEDV variable across the samples."
      ],
      "metadata": {
        "papermill": {
          "duration": 0.00878,
          "end_time": "2023-03-18T23:37:42.752233",
          "exception": false,
          "start_time": "2023-03-18T23:37:42.743453",
          "status": "completed"
        },
        "tags": [],
        "id": "H_BwSh3Qkq0G"
      }
    },
    {
      "cell_type": "markdown",
      "source": [
        "## **1.3.** Can we conclude that there is no relationship between Nitric oxide concentrations and the proportion of non-retail business acres per town? <a class=\"anchor\" id=\"3.3\"></a>\n",
        "Before conducting the test, we are providing a **regression plot** for the NOX variable vs the INDUS variable."
      ],
      "metadata": {
        "papermill": {
          "duration": 0.008368,
          "end_time": "2023-03-18T23:37:42.769924",
          "exception": false,
          "start_time": "2023-03-18T23:37:42.761556",
          "status": "completed"
        },
        "tags": [],
        "id": "88m-2mPNkq0G"
      }
    },
    {
      "cell_type": "code",
      "source": [
        "import scipy\n",
        "plt.figure(figsize=(8,4))\n",
        "sns.regplot(x='INDUS',y='NOX',data=boston_df)\n",
        "plt.title(\"Correlation Between Nitric Oxide Concentration and Proportion of Non-Retail Business Acres per Town\")\n",
        "plt.show()"
      ],
      "metadata": {
        "execution": {
          "iopub.execute_input": "2023-03-18T23:37:42.789747Z",
          "iopub.status.busy": "2023-03-18T23:37:42.788995Z",
          "iopub.status.idle": "2023-03-18T23:37:43.182132Z",
          "shell.execute_reply": "2023-03-18T23:37:43.180807Z"
        },
        "papermill": {
          "duration": 0.406485,
          "end_time": "2023-03-18T23:37:43.185091",
          "exception": false,
          "start_time": "2023-03-18T23:37:42.778606",
          "status": "completed"
        },
        "tags": [],
        "colab": {
          "base_uri": "https://localhost:8080/",
          "height": 419
        },
        "id": "zdvrF50Lkq0G",
        "outputId": "6d04eb12-e89d-4094-918d-9b1eebd5d575"
      },
      "execution_count": 12,
      "outputs": [
        {
          "output_type": "display_data",
          "data": {
            "text/plain": [
              "<Figure size 800x400 with 1 Axes>"
            ],
            "image/png": "[encoded data removed]"
          },
          "metadata": {}
        }
      ]
    },
    {
      "cell_type": "markdown",
      "source": [
        "**Observation:** Although there appears to be a positive correlation between the two variables, we can further investigate this relationship by conducting a **Pearson** correlation test, which also gives us a **correlation coefficient**."
      ],
      "metadata": {
        "papermill": {
          "duration": 0.009435,
          "end_time": "2023-03-18T23:37:43.204302",
          "exception": false,
          "start_time": "2023-03-18T23:37:43.194867",
          "status": "completed"
        },
        "tags": [],
        "id": "QEVs8iMWkq0G"
      }
    },
    {
      "cell_type": "markdown",
      "source": [
        "### **Applying correlation test**\n",
        "\n",
        "H0: There is no relationship between Nitric oxide concentrations and the proportion of non-retail business acres per town\n",
        "\n",
        "H1: There a relationship between Nitric oxide concentrations and the proportion of non-retail business acres per town"
      ],
      "metadata": {
        "papermill": {
          "duration": 0.009289,
          "end_time": "2023-03-18T23:37:43.223362",
          "exception": false,
          "start_time": "2023-03-18T23:37:43.214073",
          "status": "completed"
        },
        "tags": [],
        "id": "bStqJVS5kq0G"
      }
    },
    {
      "cell_type": "code",
      "source": [
        "#In this case we are doing a correlation test between the two variables NOX and INDUS\n",
        "#Since the dependant variable is continious, we are going to perform a Pearson test that has a p-value as one of its outputs\n",
        "a,p=scipy.stats.pearsonr(boston_df['NOX'], boston_df['INDUS'])\n",
        "print(\"The p-value obtained from the Pearson test is \"+str(p)+\", with a correlation coefficient of \"+str(a))"
      ],
      "metadata": {
        "execution": {
          "iopub.execute_input": "2023-03-18T23:37:43.24613Z",
          "iopub.status.busy": "2023-03-18T23:37:43.24501Z",
          "iopub.status.idle": "2023-03-18T23:37:43.254629Z",
          "shell.execute_reply": "2023-03-18T23:37:43.252951Z"
        },
        "papermill": {
          "duration": 0.025267,
          "end_time": "2023-03-18T23:37:43.25841",
          "exception": false,
          "start_time": "2023-03-18T23:37:43.233143",
          "status": "completed"
        },
        "tags": [],
        "colab": {
          "base_uri": "https://localhost:8080/"
        },
        "id": "iKNAPKh-kq0H",
        "outputId": "b203f35d-6e3c-4b38-c5a9-1ec7283034c9"
      },
      "execution_count": 14,
      "outputs": [
        {
          "output_type": "stream",
          "name": "stdout",
          "text": [
            "The p-value obtained from the Pearson test is 7.913361061239527e-98, with a correlation coefficient of 0.7636514469209151\n"
          ]
        }
      ]
    },
    {
      "cell_type": "markdown",
      "source": [
        "**CONCLUSION:** The null hyptohesis is rejected since there are enough proof that the Nitric oxide concentration and the proportion of non-retail business acres are positively correlated"
      ],
      "metadata": {
        "papermill": {
          "duration": 0.009465,
          "end_time": "2023-03-18T23:37:43.278494",
          "exception": false,
          "start_time": "2023-03-18T23:37:43.269029",
          "status": "completed"
        },
        "tags": [],
        "id": "ksyOJlPRkq0H"
      }
    },
    {
      "cell_type": "markdown",
      "source": [
        "## **1.4. Regression in place of correlation test (Q4):**   What is the impact of an additional weighted distance to the five Boston employment centres on the median value of owner-occupied homes?  <a class=\"anchor\" id=\"4\"></a>"
      ],
      "metadata": {
        "papermill": {
          "duration": 0.009513,
          "end_time": "2023-03-18T23:37:43.298304",
          "exception": false,
          "start_time": "2023-03-18T23:37:43.288791",
          "status": "completed"
        },
        "tags": [],
        "id": "bziTfFB-kq0H"
      }
    },
    {
      "cell_type": "code",
      "source": [
        "# We can answer this question using a regression model\n",
        "import statsmodels.api as sm\n",
        "import math\n",
        "#the independant variable\n",
        "X = boston_df['DIS']\n",
        "#add an intercept (beta_0) to our model\n",
        "X = sm.add_constant(X)\n",
        "# Dependant variable\n",
        "Y=boston_df['MEDV']\n",
        "\n",
        "model = sm.OLS(Y, X).fit()\n",
        "predictions = model.predict(X)\n",
        "model.summary()\n"
      ],
      "metadata": {
        "execution": {
          "iopub.execute_input": "2023-03-18T23:37:43.32072Z",
          "iopub.status.busy": "2023-03-18T23:37:43.320274Z",
          "iopub.status.idle": "2023-03-18T23:37:45.184991Z",
          "shell.execute_reply": "2023-03-18T23:37:45.183975Z"
        },
        "papermill": {
          "duration": 1.87933,
          "end_time": "2023-03-18T23:37:45.187585",
          "exception": false,
          "start_time": "2023-03-18T23:37:43.308255",
          "status": "completed"
        },
        "tags": [],
        "colab": {
          "base_uri": "https://localhost:8080/",
          "height": 452
        },
        "id": "Om5M7vXSkq0H",
        "outputId": "9a0bc724-2cdb-4310-f483-f8d58529e6b6"
      },
      "execution_count": 13,
      "outputs": [
        {
          "output_type": "execute_result",
          "data": {
            "text/plain": [
              "<class 'statsmodels.iolib.summary.Summary'>\n",
              "\"\"\"\n",
              "                            OLS Regression Results                            \n",
              "==============================================================================\n",
              "Dep. Variable:                   MEDV   R-squared:                       0.062\n",
              "Model:                            OLS   Adj. R-squared:                  0.061\n",
              "Method:                 Least Squares   F-statistic:                     33.58\n",
              "Date:                Sun, 18 Jun 2023   Prob (F-statistic):           1.21e-08\n",
              "Time:                        08:33:20   Log-Likelihood:                -1823.9\n",
              "No. Observations:                 506   AIC:                             3652.\n",
              "Df Residuals:                     504   BIC:                             3660.\n",
              "Df Model:                           1                                         \n",
              "Covariance Type:            nonrobust                                         \n",
              "==============================================================================\n",
              "                 coef    std err          t      P>|t|      [0.025      0.975]\n",
              "------------------------------------------------------------------------------\n",
              "const         18.3901      0.817     22.499      0.000      16.784      19.996\n",
              "DIS            1.0916      0.188      5.795      0.000       0.722       1.462\n",
              "==============================================================================\n",
              "Omnibus:                      139.779   Durbin-Watson:                   0.570\n",
              "Prob(Omnibus):                  0.000   Jarque-Bera (JB):              305.104\n",
              "Skew:                           1.466   Prob(JB):                     5.59e-67\n",
              "Kurtosis:                       5.424   Cond. No.                         9.32\n",
              "==============================================================================\n",
              "\n",
              "Notes:\n",
              "[1] Standard Errors assume that the covariance matrix of the errors is correctly specified.\n",
              "\"\"\""
            ],
            "text/html": [
              "<table class=\"simpletable\">\n",
              "<caption>OLS Regression Results</caption>\n",
              "<tr>\n",
              "  <th>Dep. Variable:</th>          <td>MEDV</td>       <th>  R-squared:         </th> <td>   0.062</td>\n",
              "</tr>\n",
              "<tr>\n",
              "  <th>Model:</th>                   <td>OLS</td>       <th>  Adj. R-squared:    </th> <td>   0.061</td>\n",
              "</tr>\n",
              "<tr>\n",
              "  <th>Method:</th>             <td>Least Squares</td>  <th>  F-statistic:       </th> <td>   33.58</td>\n",
              "</tr>\n",
              "<tr>\n",
              "  <th>Date:</th>             <td>Sun, 18 Jun 2023</td> <th>  Prob (F-statistic):</th> <td>1.21e-08</td>\n",
              "</tr>\n",
              "<tr>\n",
              "  <th>Time:</th>                 <td>08:33:20</td>     <th>  Log-Likelihood:    </th> <td> -1823.9</td>\n",
              "</tr>\n",
              "<tr>\n",
              "  <th>No. Observations:</th>      <td>   506</td>      <th>  AIC:               </th> <td>   3652.</td>\n",
              "</tr>\n",
              "<tr>\n",
              "  <th>Df Residuals:</th>          <td>   504</td>      <th>  BIC:               </th> <td>   3660.</td>\n",
              "</tr>\n",
              "<tr>\n",
              "  <th>Df Model:</th>              <td>     1</td>      <th>                     </th>     <td> </td>   \n",
              "</tr>\n",
              "<tr>\n",
              "  <th>Covariance Type:</th>      <td>nonrobust</td>    <th>                     </th>     <td> </td>   \n",
              "</tr>\n",
              "</table>\n",
              "<table class=\"simpletable\">\n",
              "<tr>\n",
              "    <td></td>       <th>coef</th>     <th>std err</th>      <th>t</th>      <th>P>|t|</th>  <th>[0.025</th>    <th>0.975]</th>  \n",
              "</tr>\n",
              "<tr>\n",
              "  <th>const</th> <td>   18.3901</td> <td>    0.817</td> <td>   22.499</td> <td> 0.000</td> <td>   16.784</td> <td>   19.996</td>\n",
              "</tr>\n",
              "<tr>\n",
              "  <th>DIS</th>   <td>    1.0916</td> <td>    0.188</td> <td>    5.795</td> <td> 0.000</td> <td>    0.722</td> <td>    1.462</td>\n",
              "</tr>\n",
              "</table>\n",
              "<table class=\"simpletable\">\n",
              "<tr>\n",
              "  <th>Omnibus:</th>       <td>139.779</td> <th>  Durbin-Watson:     </th> <td>   0.570</td>\n",
              "</tr>\n",
              "<tr>\n",
              "  <th>Prob(Omnibus):</th> <td> 0.000</td>  <th>  Jarque-Bera (JB):  </th> <td> 305.104</td>\n",
              "</tr>\n",
              "<tr>\n",
              "  <th>Skew:</th>          <td> 1.466</td>  <th>  Prob(JB):          </th> <td>5.59e-67</td>\n",
              "</tr>\n",
              "<tr>\n",
              "  <th>Kurtosis:</th>      <td> 5.424</td>  <th>  Cond. No.          </th> <td>    9.32</td>\n",
              "</tr>\n",
              "</table><br/><br/>Notes:<br/>[1] Standard Errors assume that the covariance matrix of the errors is correctly specified."
            ]
          },
          "metadata": {},
          "execution_count": 13
        }
      ]
    },
    {
      "cell_type": "code",
      "source": [
        "# R-squared is the correlation_coeffecient**2\n",
        "correlation_coef=math.sqrt(0.062)\n",
        "print(\"The correlation coef is: \"+str(correlation_coef))\n",
        "# Since sqrt(0.062)"
      ],
      "metadata": {
        "execution": {
          "iopub.execute_input": "2023-03-18T23:37:45.211534Z",
          "iopub.status.busy": "2023-03-18T23:37:45.210413Z",
          "iopub.status.idle": "2023-03-18T23:37:45.219962Z",
          "shell.execute_reply": "2023-03-18T23:37:45.217961Z"
        },
        "papermill": {
          "duration": 0.024989,
          "end_time": "2023-03-18T23:37:45.222966",
          "exception": false,
          "start_time": "2023-03-18T23:37:45.197977",
          "status": "completed"
        },
        "tags": [],
        "colab": {
          "base_uri": "https://localhost:8080/",
          "height": 222
        },
        "id": "NF4bLu4jkq0H",
        "outputId": "15d54dc9-5a11-46e1-97f7-55f43b3c9696"
      },
      "execution_count": 15,
      "outputs": [
        {
          "output_type": "error",
          "ename": "NameError",
          "evalue": "ignored",
          "traceback": [
            "\u001b[0;31m---------------------------------------------------------------------------\u001b[0m",
            "\u001b[0;31mNameError\u001b[0m                                 Traceback (most recent call last)",
            "\u001b[0;32m<ipython-input-15-a666e58d9ca1>\u001b[0m in \u001b[0;36m<cell line: 2>\u001b[0;34m()\u001b[0m\n\u001b[1;32m      1\u001b[0m \u001b[0;31m# R-squared is the correlation_coeffecient**2\u001b[0m\u001b[0;34m\u001b[0m\u001b[0;34m\u001b[0m\u001b[0m\n\u001b[0;32m----> 2\u001b[0;31m \u001b[0mcorrelation_coef\u001b[0m\u001b[0;34m=\u001b[0m\u001b[0mmath\u001b[0m\u001b[0;34m.\u001b[0m\u001b[0msqrt\u001b[0m\u001b[0;34m(\u001b[0m\u001b[0;36m0.062\u001b[0m\u001b[0;34m)\u001b[0m\u001b[0;34m\u001b[0m\u001b[0;34m\u001b[0m\u001b[0m\n\u001b[0m\u001b[1;32m      3\u001b[0m \u001b[0mprint\u001b[0m\u001b[0;34m(\u001b[0m\u001b[0;34m\"The correlation coef is: \"\u001b[0m\u001b[0;34m+\u001b[0m\u001b[0mstr\u001b[0m\u001b[0;34m(\u001b[0m\u001b[0mcorrelation_coef\u001b[0m\u001b[0;34m)\u001b[0m\u001b[0;34m)\u001b[0m\u001b[0;34m\u001b[0m\u001b[0;34m\u001b[0m\u001b[0m\n\u001b[1;32m      4\u001b[0m \u001b[0;31m# Since sqrt(0.062)\u001b[0m\u001b[0;34m\u001b[0m\u001b[0;34m\u001b[0m\u001b[0m\n",
            "\u001b[0;31mNameError\u001b[0m: name 'math' is not defined"
          ]
        }
      ]
    },
    {
      "cell_type": "markdown",
      "source": [
        "**CONCLUSION:** We can see that the coefficient for the additional weighted distance to the five Boston employment centers (DIS) is 1.0916, indicating that for each unit increase in the additional weighted distance, the median value of owner-occupied homes increases by 1,091.6."
      ],
      "metadata": {
        "papermill": {
          "duration": 0.01014,
          "end_time": "2023-03-18T23:37:45.244074",
          "exception": false,
          "start_time": "2023-03-18T23:37:45.233934",
          "status": "completed"
        },
        "tags": [],
        "id": "FeZ1AtqKkq0H"
      }
    }
  ]
}